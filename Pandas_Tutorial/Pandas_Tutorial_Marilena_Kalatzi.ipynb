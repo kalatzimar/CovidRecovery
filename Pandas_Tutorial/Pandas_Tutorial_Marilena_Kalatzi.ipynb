{
 "cells": [
  {
   "cell_type": "code",
   "execution_count": 1,
   "id": "c20635c6-c569-456b-a05d-f54bed580a3e",
   "metadata": {},
   "outputs": [],
   "source": [
    "########################################################\n",
    "# Purpose: Pandas Tutorial\n",
    "# Course: Data Engineering - MSc. Statistics AUEB\n",
    "# Author: Marilena Kalatzi\n",
    "# Date: May 2024\n",
    "########################################################"
   ]
  },
  {
   "cell_type": "code",
   "execution_count": 2,
   "id": "00927760-565c-49ba-84b6-e6e8a4b79f2c",
   "metadata": {},
   "outputs": [],
   "source": [
    "# import pandas library\n",
    "import pandas as pd"
   ]
  },
  {
   "cell_type": "code",
   "execution_count": 3,
   "id": "03ac2ffe-2293-44b6-81ce-fd62b9a49b32",
   "metadata": {},
   "outputs": [
    {
     "name": "stdout",
     "output_type": "stream",
     "text": [
      "['Mariya', 'Batman', 'Spongebob']\n",
      "           0\n",
      "0     Mariya\n",
      "1     Batman\n",
      "2  Spongebob\n"
     ]
    }
   ],
   "source": [
    "# create a list of names \n",
    "column = [\"Mariya\", \"Batman\", \"Spongebob\"]\n",
    "print(column)\n",
    "\n",
    "# convert list to a data frame\n",
    "column_data = pd.DataFrame(column)\n",
    "print(column_data)"
   ]
  },
  {
   "cell_type": "code",
   "execution_count": 4,
   "id": "77d96293-7bbf-4e5c-813f-1d9ab45edd5b",
   "metadata": {},
   "outputs": [
    {
     "name": "stdout",
     "output_type": "stream",
     "text": [
      "        name\n",
      "0     Mariya\n",
      "1     Batman\n",
      "2  Spongebob\n"
     ]
    }
   ],
   "source": [
    "# create a dictionary to assign names to columns inside the data frame\n",
    "titled_column = {\"name\": column}\n",
    "\n",
    "# convert dictionary to data frame with titled columns\n",
    "data = pd.DataFrame(titled_column)\n",
    "print(data)"
   ]
  },
  {
   "cell_type": "code",
   "execution_count": 5,
   "id": "769c2faf-66d4-4774-9ce6-ea0df307dba0",
   "metadata": {},
   "outputs": [
    {
     "name": "stdout",
     "output_type": "stream",
     "text": [
      "        name  height  weight\n",
      "0     Mariya    1.67      54\n",
      "1     Batman    1.90     100\n",
      "2  Spongebob    0.25       1\n"
     ]
    }
   ],
   "source": [
    "# add other columns in the data frame\n",
    "titled_columns = {\"name\": column,\n",
    "                 \"height\" : [1.67, 1.9, 0.25],\n",
    "                 \"weight\" : [54,100,1]}\n",
    "data = pd.DataFrame(titled_columns)\n",
    "print(data)"
   ]
  },
  {
   "cell_type": "code",
   "execution_count": 6,
   "id": "6e9102d5-3e89-4dc7-a33f-a44750a8fbab",
   "metadata": {},
   "outputs": [
    {
     "name": "stdout",
     "output_type": "stream",
     "text": [
      "0     54\n",
      "1    100\n",
      "2      1\n",
      "Name: weight, dtype: int64\n"
     ]
    }
   ],
   "source": [
    "# select specific columns from a data frame\n",
    "select_columns = data[\"weight\"]\n",
    "print(select_columns)"
   ]
  },
  {
   "cell_type": "code",
   "execution_count": 7,
   "id": "0bcc202d-e9c7-45aa-8739-84c90570a3bd",
   "metadata": {},
   "outputs": [
    {
     "name": "stdout",
     "output_type": "stream",
     "text": [
      "100\n"
     ]
    }
   ],
   "source": [
    "# index specific columns\n",
    "index_columns = data[\"weight\"][1]\n",
    "print(index_columns)"
   ]
  },
  {
   "cell_type": "code",
   "execution_count": 8,
   "id": "1765ea61-8f5c-4e60-af7b-55de2ca6b2e3",
   "metadata": {},
   "outputs": [
    {
     "name": "stdout",
     "output_type": "stream",
     "text": [
      "name      Batman\n",
      "height       1.9\n",
      "weight       100\n",
      "Name: 1, dtype: object\n"
     ]
    }
   ],
   "source": [
    "# select specific row; iloc represents rows, use brackets to index entire row\n",
    "select_row = data.iloc[1]\n",
    "print(select_row)"
   ]
  },
  {
   "cell_type": "code",
   "execution_count": 9,
   "id": "462a551c-f025-4dcc-ac67-b7db9ab1ba4c",
   "metadata": {},
   "outputs": [
    {
     "name": "stdout",
     "output_type": "stream",
     "text": [
      "100\n"
     ]
    }
   ],
   "source": [
    "# index rows\n",
    "index_row = data.iloc[1][\"weight\"]\n",
    "print(index_row)"
   ]
  },
  {
   "cell_type": "code",
   "execution_count": 10,
   "id": "c51288f7-a87b-4411-b050-3e02b167f06a",
   "metadata": {},
   "outputs": [
    {
     "name": "stdout",
     "output_type": "stream",
     "text": [
      "        name  height  weight        bmi\n",
      "0     Mariya    1.67      54  19.362473\n",
      "1     Batman    1.90     100  27.700831\n",
      "2  Spongebob    0.25       1  16.000000\n"
     ]
    }
   ],
   "source": [
    "# manipulate data frame values\n",
    "# add new column with calculated bmi from data frame's values\n",
    "data[\"bmi\"] = data[\"weight\"]/(data[\"height\"]**2)\n",
    "print(data)\n",
    "    "
   ]
  },
  {
   "cell_type": "code",
   "execution_count": 12,
   "id": "01090711-220a-46fa-a2a8-43b4b510b917",
   "metadata": {},
   "outputs": [],
   "source": [
    "# save data frame to a file\n",
    "data.to_csv(\"bmi.csv\", sep = \"\\t\")\n",
    "data.to_csv(\"bmi.txt\", sep = \"\\t\")"
   ]
  },
  {
   "cell_type": "code",
   "execution_count": 13,
   "id": "3dd185ea-e638-4102-96b8-a8fc4931bf16",
   "metadata": {},
   "outputs": [
    {
     "name": "stdout",
     "output_type": "stream",
     "text": [
      "   Unnamed: 0       name  height  weight        bmi\n",
      "0           0     Mariya    1.67      54  19.362473\n",
      "1           1     Batman    1.90     100  27.700831\n",
      "2           2  Spongebob    0.25       1  16.000000\n"
     ]
    }
   ],
   "source": [
    "# load data frame from existing file\n",
    "load_data = pd.read_csv(\"bmi.csv\", sep = \"\\t\")\n",
    "print(load_data)"
   ]
  },
  {
   "cell_type": "code",
   "execution_count": 14,
   "id": "10faff26-d9c9-4f82-834d-779ef6841719",
   "metadata": {},
   "outputs": [],
   "source": [
    "# re-save the file but make sure first column that appeared before is not there\n",
    "data.to_csv(\"bmi.csv\",index = False, sep = \"\\t\")"
   ]
  },
  {
   "cell_type": "code",
   "execution_count": 15,
   "id": "8ca9d0a2-ce12-420b-9896-d388cc9b619a",
   "metadata": {},
   "outputs": [],
   "source": [
    "# re-load to see the change\n",
    "load_data = pd.read_csv(\"bmi.csv\",sep = \"\\t\")"
   ]
  },
  {
   "cell_type": "code",
   "execution_count": 16,
   "id": "373f697c-1e7b-40d7-901c-520ac1aa7be0",
   "metadata": {},
   "outputs": [
    {
     "data": {
      "text/html": [
       "<div>\n",
       "<style scoped>\n",
       "    .dataframe tbody tr th:only-of-type {\n",
       "        vertical-align: middle;\n",
       "    }\n",
       "\n",
       "    .dataframe tbody tr th {\n",
       "        vertical-align: top;\n",
       "    }\n",
       "\n",
       "    .dataframe thead th {\n",
       "        text-align: right;\n",
       "    }\n",
       "</style>\n",
       "<table border=\"1\" class=\"dataframe\">\n",
       "  <thead>\n",
       "    <tr style=\"text-align: right;\">\n",
       "      <th></th>\n",
       "      <th>name</th>\n",
       "      <th>height</th>\n",
       "      <th>weight</th>\n",
       "      <th>bmi</th>\n",
       "    </tr>\n",
       "  </thead>\n",
       "  <tbody>\n",
       "    <tr>\n",
       "      <th>1</th>\n",
       "      <td>Batman</td>\n",
       "      <td>1.90</td>\n",
       "      <td>100</td>\n",
       "      <td>27.700831</td>\n",
       "    </tr>\n",
       "    <tr>\n",
       "      <th>2</th>\n",
       "      <td>Spongebob</td>\n",
       "      <td>0.25</td>\n",
       "      <td>1</td>\n",
       "      <td>16.000000</td>\n",
       "    </tr>\n",
       "  </tbody>\n",
       "</table>\n",
       "</div>"
      ],
      "text/plain": [
       "        name  height  weight        bmi\n",
       "1     Batman    1.90     100  27.700831\n",
       "2  Spongebob    0.25       1  16.000000"
      ]
     },
     "execution_count": 16,
     "metadata": {},
     "output_type": "execute_result"
    }
   ],
   "source": [
    "# print only first row of loaded data\n",
    "load_data.head(1)\n",
    "# print only the last 2 rows of loaded data\n",
    "load_data.tail(2)"
   ]
  },
  {
   "cell_type": "code",
   "execution_count": 17,
   "id": "df4717b2-dac7-4e29-a601-45bc16088c8a",
   "metadata": {},
   "outputs": [
    {
     "name": "stdout",
     "output_type": "stream",
     "text": [
      "     name  height  weight        bmi\n",
      "0  Mariya    1.67      54  19.362473\n"
     ]
    }
   ],
   "source": [
    "# filter data frame\n",
    "filtered_data = data[data[\"weight\"] == 54]\n",
    "print(filtered_data)"
   ]
  },
  {
   "cell_type": "code",
   "execution_count": 18,
   "id": "5d32f623-411f-465b-97b7-38f60772d434",
   "metadata": {},
   "outputs": [
    {
     "name": "stdout",
     "output_type": "stream",
     "text": [
      "        name  height  weight        bmi\n",
      "0     Mariya    1.67      78  19.362473\n",
      "1     Batman    1.90     100  27.700831\n",
      "2  Spongebob    0.25       1  16.000000\n"
     ]
    }
   ],
   "source": [
    "# replace a column in the data frame\n",
    "replaced_weight = data.replace(54, 78)\n",
    "print(replaced_weight)"
   ]
  },
  {
   "cell_type": "code",
   "execution_count": 19,
   "id": "92cb509a-ec53-45bd-83bb-0d1a9a99eca4",
   "metadata": {},
   "outputs": [
    {
     "name": "stdout",
     "output_type": "stream",
     "text": [
      "        name  weight        bmi\n",
      "0     Mariya      54  19.362473\n",
      "1     Batman     100  27.700831\n",
      "2  Spongebob       1  16.000000\n"
     ]
    }
   ],
   "source": [
    "# remove a column (axis = 1)\n",
    "remove_column = data.drop(\"height\",axis = 1)\n",
    "print(remove_column)"
   ]
  },
  {
   "cell_type": "code",
   "execution_count": 20,
   "id": "9d5522d5-6754-4802-9ed2-b2460a724e2e",
   "metadata": {},
   "outputs": [
    {
     "name": "stdout",
     "output_type": "stream",
     "text": [
      "        name  height  weight        bmi\n",
      "0     Mariya    1.67      54  19.362473\n",
      "2  Spongebob    0.25       1  16.000000\n"
     ]
    }
   ],
   "source": [
    "# remove a row (axis = 0)\n",
    "remove_row = data.drop(1,axis=0)\n",
    "print(remove_row)"
   ]
  },
  {
   "cell_type": "code",
   "execution_count": 21,
   "id": "c34b8a0c-f33f-40db-9c05-7060e16eb9c8",
   "metadata": {},
   "outputs": [
    {
     "name": "stdout",
     "output_type": "stream",
     "text": [
      "        name  height  weight        bmi\n",
      "0     Mariya    1.67      54  19.362473\n",
      "1     Batman    1.90     100  27.700831\n",
      "2  Spongebob    0.25       1  16.000000\n",
      "3   Marilena    1.73      74  24.725183\n"
     ]
    }
   ],
   "source": [
    "# add new rows\n",
    "\n",
    "# create new row dictionary\n",
    "row = {\"name\": [\"Marilena\"],\n",
    "       \"height\": 1.73,\n",
    "       \"weight\": 74,\n",
    "       \"bmi\": 74/(1.73**2)}\n",
    "\n",
    "# convert dictionary to data frame\n",
    "new_row = pd.DataFrame(row)\n",
    "\n",
    "# add new row data frame to previous data\n",
    "new_row_data = pd.concat([data, new_row], ignore_index=True)\n",
    "print(new_row_data)"
   ]
  },
  {
   "cell_type": "code",
   "execution_count": 5,
   "id": "482abdce-fd03-499b-940f-cbc2a66f6b13",
   "metadata": {},
   "outputs": [
    {
     "name": "stdout",
     "output_type": "stream",
     "text": [
      "A     10\n",
      "B     20\n",
      "C     30\n",
      "D    400\n",
      "dtype: int64\n"
     ]
    }
   ],
   "source": [
    "# pandas series\n",
    "series = pd.Series([10,20,30,400],[\"A\",\"B\",\"C\",\"D\"])\n",
    "print(series)"
   ]
  },
  {
   "cell_type": "code",
   "execution_count": 6,
   "id": "6902bc04-1818-4bde-a7b4-98412ed5b268",
   "metadata": {},
   "outputs": [
    {
     "name": "stdout",
     "output_type": "stream",
     "text": [
      "30\n"
     ]
    }
   ],
   "source": [
    "# index series\n",
    "print(series[\"C\"])"
   ]
  }
 ],
 "metadata": {
  "kernelspec": {
   "display_name": "Python 3 (ipykernel)",
   "language": "python",
   "name": "python3"
  },
  "language_info": {
   "codemirror_mode": {
    "name": "ipython",
    "version": 3
   },
   "file_extension": ".py",
   "mimetype": "text/x-python",
   "name": "python",
   "nbconvert_exporter": "python",
   "pygments_lexer": "ipython3",
   "version": "3.11.7"
  }
 },
 "nbformat": 4,
 "nbformat_minor": 5
}
